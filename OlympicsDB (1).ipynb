{
  "cells": [
    {
      "cell_type": "code",
      "execution_count": null,
      "metadata": {
        "application/vnd.databricks.v1+cell": {
          "cellMetadata": {
            "byteLimit": 2048000,
            "rowLimit": 10000
          },
          "inputWidgets": {},
          "nuid": "43b4568e-9d91-442a-b5d1-8005375bae95",
          "showTitle": false,
          "tableResultSettingsMap": {},
          "title": ""
        },
        "id": "aRFikLSTR9JF"
      },
      "outputs": [],
      "source": [
        "secret =\n",
        "client =\n",
        "tenant ="
      ]
    },
    {
      "cell_type": "code",
      "execution_count": null,
      "metadata": {
        "application/vnd.databricks.v1+cell": {
          "cellMetadata": {
            "byteLimit": 2048000,
            "rowLimit": 10000
          },
          "inputWidgets": {},
          "nuid": "d2bc721d-1863-4735-a6ae-1ca8354d8c43",
          "showTitle": false,
          "tableResultSettingsMap": {},
          "title": ""
        },
        "id": "6a-4w1vDR9JH"
      },
      "outputs": [],
      "source": [
        "\n",
        "spark.conf.set(\"fs.azure.account.auth.type.olympicstunir.dfs.core.windows.net\", \"OAuth\")\n",
        "spark.conf.set(\"fs.azure.account.oauth.provider.type.olympicstunir.dfs.core.windows.net\", \"org.apache.hadoop.fs.azurebfs.oauth2.ClientCredsTokenProvider\")\n",
        "spark.conf.set(\"fs.azure.account.oauth2.client.id.olympicstunir.dfs.core.windows.net\",\"<clientID>\")\n",
        "spark.conf.set(\"fs.azure.account.oauth2.client.secret.olympicstunir.dfs.core.windows.net\",\"<SecretID>\")\n",
        "spark.conf.set(\"fs.azure.account.oauth2.client.endpoint.olympicstunir.dfs.core.windows.net\", \"https://login.microsoftonline.com/<tenant_id>/oauth2/token\")"
      ]
    },
    {
      "cell_type": "code",
      "execution_count": null,
      "metadata": {
        "application/vnd.databricks.v1+cell": {
          "cellMetadata": {
            "byteLimit": 2048000,
            "rowLimit": 10000
          },
          "inputWidgets": {},
          "nuid": "6ac3b6d8-b4d8-46a2-8f65-881bcfe402bf",
          "showTitle": false,
          "tableResultSettingsMap": {},
          "title": ""
        },
        "id": "Y4-KQNtoR9JI",
        "outputId": "b8d9ae4e-b0bc-4df3-a086-b3f62ad57dce"
      },
      "outputs": [
        {
          "output_type": "stream",
          "name": "stdout",
          "text": [
            "Out[15]: [FileInfo(path='abfss://raw-data@olympicstunir.dfs.core.windows.net/Coaches.csv', name='Coaches.csv', size=16889, modificationTime=1751296497000),\n FileInfo(path='abfss://raw-data@olympicstunir.dfs.core.windows.net/Gender.csv', name='Gender.csv', size=1123, modificationTime=1751296517000),\n FileInfo(path='abfss://raw-data@olympicstunir.dfs.core.windows.net/Medals.csv', name='Medals.csv', size=2414, modificationTime=1751296539000),\n FileInfo(path='abfss://raw-data@olympicstunir.dfs.core.windows.net/Teams.csv', name='Teams.csv', size=35270, modificationTime=1751296560000),\n FileInfo(path='abfss://raw-data@olympicstunir.dfs.core.windows.net/athletes.csv', name='athletes.csv', size=418492, modificationTime=1751296476000)]"
          ]
        }
      ],
      "source": [
        "dbutils.fs.ls(\"abfss://raw-data@olympicstunir.dfs.core.windows.net/\")"
      ]
    },
    {
      "cell_type": "code",
      "execution_count": null,
      "metadata": {
        "application/vnd.databricks.v1+cell": {
          "cellMetadata": {
            "byteLimit": 2048000,
            "rowLimit": 10000
          },
          "inputWidgets": {},
          "nuid": "b1ce20e0-817b-47ad-9d02-c8f32440b317",
          "showTitle": false,
          "tableResultSettingsMap": {},
          "title": ""
        },
        "id": "S_O7hSScR9JJ"
      },
      "outputs": [],
      "source": [
        "from pyspark.sql.functions import *"
      ]
    },
    {
      "cell_type": "code",
      "execution_count": null,
      "metadata": {
        "application/vnd.databricks.v1+cell": {
          "cellMetadata": {
            "byteLimit": 2048000,
            "rowLimit": 10000
          },
          "inputWidgets": {},
          "nuid": "8f01920e-cdd6-49bd-83d4-cc1d6c1efdc9",
          "showTitle": false,
          "tableResultSettingsMap": {},
          "title": ""
        },
        "id": "JTCRybEtR9JK"
      },
      "outputs": [],
      "source": [
        "athlete = spark.read.format(\"csv\").option(\"header\", \"true\").option(\"inferSchema\", \"true\").load(\"abfss://raw-data@olympicstunir.dfs.core.windows.net/athletes.csv\")\n",
        "coaches=spark.read.format(\"csv\").option(\"header\", \"true\").option(\"inferSchema\", \"true\").load(\"abfss://raw-data@olympicstunir.dfs.core.windows.net/Coaches.csv\")\n",
        "gender=spark.read.format(\"csv\").option(\"header\", \"true\").option(\"inferSchema\", \"true\").load(\"abfss://raw-data@olympicstunir.dfs.core.windows.net/Gender.csv\")\n",
        "team=spark.read.format(\"csv\").option(\"header\", \"true\").option(\"inferSchema\", \"true\").load(\"abfss://raw-data@olympicstunir.dfs.core.windows.net/Teams.csv\")\n",
        "medal=spark.read.format(\"csv\").option(\"header\", \"true\").option(\"inferSchema\", \"true\").load(\"abfss://raw-data@olympicstunir.dfs.core.windows.net/Medals.csv\")"
      ]
    },
    {
      "cell_type": "code",
      "execution_count": null,
      "metadata": {
        "application/vnd.databricks.v1+cell": {
          "cellMetadata": {
            "byteLimit": 2048000,
            "rowLimit": 10000
          },
          "inputWidgets": {},
          "nuid": "f84dc3b1-fcc9-4183-be10-029be8ac8c98",
          "showTitle": false,
          "tableResultSettingsMap": {},
          "title": ""
        },
        "id": "7Xmo2vF4R9JK",
        "outputId": "ccdecf49-be53-4710-86b8-11c2e1a6f89c"
      },
      "outputs": [
        {
          "output_type": "display_data",
          "data": {
            "text/html": [
              "<style scoped>\n",
              "  .table-result-container {\n",
              "    max-height: 300px;\n",
              "    overflow: auto;\n",
              "  }\n",
              "  table, th, td {\n",
              "    border: 1px solid black;\n",
              "    border-collapse: collapse;\n",
              "  }\n",
              "  th, td {\n",
              "    padding: 5px;\n",
              "  }\n",
              "  th {\n",
              "    text-align: left;\n",
              "  }\n",
              "</style><div class='table-result-container'><table class='table-result'><thead style='background-color: white'><tr><th>Rank</th><th>TeamCountry</th><th>Gold</th><th>Silver</th><th>Bronze</th><th>Total</th><th>Rank by Total</th></tr></thead><tbody><tr><td>1</td><td>United States of America</td><td>39</td><td>41</td><td>33</td><td>113</td><td>1</td></tr><tr><td>2</td><td>People's Republic of China</td><td>38</td><td>32</td><td>18</td><td>88</td><td>2</td></tr><tr><td>3</td><td>Japan</td><td>27</td><td>14</td><td>17</td><td>58</td><td>5</td></tr><tr><td>4</td><td>Great Britain</td><td>22</td><td>21</td><td>22</td><td>65</td><td>4</td></tr><tr><td>5</td><td>ROC</td><td>20</td><td>28</td><td>23</td><td>71</td><td>3</td></tr><tr><td>6</td><td>Australia</td><td>17</td><td>7</td><td>22</td><td>46</td><td>6</td></tr><tr><td>7</td><td>Netherlands</td><td>10</td><td>12</td><td>14</td><td>36</td><td>9</td></tr><tr><td>8</td><td>France</td><td>10</td><td>12</td><td>11</td><td>33</td><td>10</td></tr><tr><td>9</td><td>Germany</td><td>10</td><td>11</td><td>16</td><td>37</td><td>8</td></tr><tr><td>10</td><td>Italy</td><td>10</td><td>10</td><td>20</td><td>40</td><td>7</td></tr><tr><td>11</td><td>Canada</td><td>7</td><td>6</td><td>11</td><td>24</td><td>11</td></tr><tr><td>12</td><td>Brazil</td><td>7</td><td>6</td><td>8</td><td>21</td><td>12</td></tr><tr><td>13</td><td>New Zealand</td><td>7</td><td>6</td><td>7</td><td>20</td><td>13</td></tr><tr><td>14</td><td>Cuba</td><td>7</td><td>3</td><td>5</td><td>15</td><td>18</td></tr><tr><td>15</td><td>Hungary</td><td>6</td><td>7</td><td>7</td><td>20</td><td>13</td></tr><tr><td>16</td><td>Republic of Korea</td><td>6</td><td>4</td><td>10</td><td>20</td><td>13</td></tr><tr><td>17</td><td>Poland</td><td>4</td><td>5</td><td>5</td><td>14</td><td>19</td></tr><tr><td>18</td><td>Czech Republic</td><td>4</td><td>4</td><td>3</td><td>11</td><td>23</td></tr><tr><td>19</td><td>Kenya</td><td>4</td><td>4</td><td>2</td><td>10</td><td>25</td></tr><tr><td>20</td><td>Norway</td><td>4</td><td>2</td><td>2</td><td>8</td><td>29</td></tr><tr><td>21</td><td>Jamaica</td><td>4</td><td>1</td><td>4</td><td>9</td><td>26</td></tr><tr><td>22</td><td>Spain</td><td>3</td><td>8</td><td>6</td><td>17</td><td>17</td></tr><tr><td>23</td><td>Sweden</td><td>3</td><td>6</td><td>0</td><td>9</td><td>26</td></tr><tr><td>24</td><td>Switzerland</td><td>3</td><td>4</td><td>6</td><td>13</td><td>20</td></tr><tr><td>25</td><td>Denmark</td><td>3</td><td>4</td><td>4</td><td>11</td><td>23</td></tr><tr><td>26</td><td>Croatia</td><td>3</td><td>3</td><td>2</td><td>8</td><td>29</td></tr><tr><td>27</td><td>Islamic Republic of Iran</td><td>3</td><td>2</td><td>2</td><td>7</td><td>33</td></tr><tr><td>28</td><td>Serbia</td><td>3</td><td>1</td><td>5</td><td>9</td><td>26</td></tr><tr><td>29</td><td>Belgium</td><td>3</td><td>1</td><td>3</td><td>7</td><td>33</td></tr><tr><td>30</td><td>Bulgaria</td><td>3</td><td>1</td><td>2</td><td>6</td><td>39</td></tr><tr><td>31</td><td>Slovenia</td><td>3</td><td>1</td><td>1</td><td>5</td><td>42</td></tr><tr><td>32</td><td>Uzbekistan</td><td>3</td><td>0</td><td>2</td><td>5</td><td>42</td></tr><tr><td>33</td><td>Georgia</td><td>2</td><td>5</td><td>1</td><td>8</td><td>29</td></tr><tr><td>34</td><td>Chinese Taipei</td><td>2</td><td>4</td><td>6</td><td>12</td><td>22</td></tr><tr><td>35</td><td>Turkey</td><td>2</td><td>2</td><td>9</td><td>13</td><td>20</td></tr><tr><td>36</td><td>Greece</td><td>2</td><td>1</td><td>1</td><td>4</td><td>47</td></tr><tr><td>36</td><td>Uganda</td><td>2</td><td>1</td><td>1</td><td>4</td><td>47</td></tr><tr><td>38</td><td>Ecuador</td><td>2</td><td>1</td><td>0</td><td>3</td><td>60</td></tr><tr><td>39</td><td>Ireland</td><td>2</td><td>0</td><td>2</td><td>4</td><td>47</td></tr><tr><td>39</td><td>Israel</td><td>2</td><td>0</td><td>2</td><td>4</td><td>47</td></tr><tr><td>41</td><td>Qatar</td><td>2</td><td>0</td><td>1</td><td>3</td><td>60</td></tr><tr><td>42</td><td>Bahamas</td><td>2</td><td>0</td><td>0</td><td>2</td><td>66</td></tr><tr><td>42</td><td>Kosovo</td><td>2</td><td>0</td><td>0</td><td>2</td><td>66</td></tr><tr><td>44</td><td>Ukraine</td><td>1</td><td>6</td><td>12</td><td>19</td><td>16</td></tr><tr><td>45</td><td>Belarus</td><td>1</td><td>3</td><td>3</td><td>7</td><td>33</td></tr><tr><td>46</td><td>Romania</td><td>1</td><td>3</td><td>0</td><td>4</td><td>47</td></tr><tr><td>46</td><td>Venezuela</td><td>1</td><td>3</td><td>0</td><td>4</td><td>47</td></tr><tr><td>48</td><td>India</td><td>1</td><td>2</td><td>4</td><td>7</td><td>33</td></tr><tr><td>49</td><td>Hong Kong, China</td><td>1</td><td>2</td><td>3</td><td>6</td><td>39</td></tr><tr><td>50</td><td>Philippines</td><td>1</td><td>2</td><td>1</td><td>4</td><td>47</td></tr><tr><td>50</td><td>Slovakia</td><td>1</td><td>2</td><td>1</td><td>4</td><td>47</td></tr><tr><td>52</td><td>South Africa</td><td>1</td><td>2</td><td>0</td><td>3</td><td>60</td></tr><tr><td>53</td><td>Austria</td><td>1</td><td>1</td><td>5</td><td>7</td><td>33</td></tr><tr><td>54</td><td>Egypt</td><td>1</td><td>1</td><td>4</td><td>6</td><td>39</td></tr><tr><td>55</td><td>Indonesia</td><td>1</td><td>1</td><td>3</td><td>5</td><td>42</td></tr><tr><td>56</td><td>Ethiopia</td><td>1</td><td>1</td><td>2</td><td>4</td><td>47</td></tr><tr><td>56</td><td>Portugal</td><td>1</td><td>1</td><td>2</td><td>4</td><td>47</td></tr><tr><td>58</td><td>Tunisia</td><td>1</td><td>1</td><td>0</td><td>2</td><td>66</td></tr><tr><td>59</td><td>Estonia</td><td>1</td><td>0</td><td>1</td><td>2</td><td>66</td></tr><tr><td>59</td><td>Fiji</td><td>1</td><td>0</td><td>1</td><td>2</td><td>66</td></tr><tr><td>59</td><td>Latvia</td><td>1</td><td>0</td><td>1</td><td>2</td><td>66</td></tr><tr><td>59</td><td>Thailand</td><td>1</td><td>0</td><td>1</td><td>2</td><td>66</td></tr><tr><td>63</td><td>Bermuda</td><td>1</td><td>0</td><td>0</td><td>1</td><td>77</td></tr><tr><td>63</td><td>Morocco</td><td>1</td><td>0</td><td>0</td><td>1</td><td>77</td></tr><tr><td>63</td><td>Puerto Rico</td><td>1</td><td>0</td><td>0</td><td>1</td><td>77</td></tr><tr><td>66</td><td>Colombia</td><td>0</td><td>4</td><td>1</td><td>5</td><td>42</td></tr><tr><td>67</td><td>Azerbaijan</td><td>0</td><td>3</td><td>4</td><td>7</td><td>33</td></tr><tr><td>68</td><td>Dominican Republic</td><td>0</td><td>3</td><td>2</td><td>5</td><td>42</td></tr><tr><td>69</td><td>Armenia</td><td>0</td><td>2</td><td>2</td><td>4</td><td>47</td></tr><tr><td>70</td><td>Kyrgyzstan</td><td>0</td><td>2</td><td>1</td><td>3</td><td>60</td></tr><tr><td>71</td><td>Mongolia</td><td>0</td><td>1</td><td>3</td><td>4</td><td>47</td></tr><tr><td>72</td><td>Argentina</td><td>0</td><td>1</td><td>2</td><td>3</td><td>60</td></tr><tr><td>72</td><td>San Marino</td><td>0</td><td>1</td><td>2</td><td>3</td><td>60</td></tr><tr><td>74</td><td>Jordan</td><td>0</td><td>1</td><td>1</td><td>2</td><td>66</td></tr><tr><td>74</td><td>Malaysia</td><td>0</td><td>1</td><td>1</td><td>2</td><td>66</td></tr><tr><td>74</td><td>Nigeria</td><td>0</td><td>1</td><td>1</td><td>2</td><td>66</td></tr><tr><td>77</td><td>Bahrain</td><td>0</td><td>1</td><td>0</td><td>1</td><td>77</td></tr><tr><td>77</td><td>Saudi Arabia</td><td>0</td><td>1</td><td>0</td><td>1</td><td>77</td></tr><tr><td>77</td><td>Lithuania</td><td>0</td><td>1</td><td>0</td><td>1</td><td>77</td></tr><tr><td>77</td><td>North Macedonia</td><td>0</td><td>1</td><td>0</td><td>1</td><td>77</td></tr><tr><td>77</td><td>Namibia</td><td>0</td><td>1</td><td>0</td><td>1</td><td>77</td></tr><tr><td>77</td><td>Turkmenistan</td><td>0</td><td>1</td><td>0</td><td>1</td><td>77</td></tr><tr><td>83</td><td>Kazakhstan</td><td>0</td><td>0</td><td>8</td><td>8</td><td>29</td></tr><tr><td>84</td><td>Mexico</td><td>0</td><td>0</td><td>4</td><td>4</td><td>47</td></tr><tr><td>85</td><td>Finland</td><td>0</td><td>0</td><td>2</td><td>2</td><td>66</td></tr><tr><td>86</td><td>Botswana</td><td>0</td><td>0</td><td>1</td><td>1</td><td>77</td></tr><tr><td>86</td><td>Burkina Faso</td><td>0</td><td>0</td><td>1</td><td>1</td><td>77</td></tr><tr><td>86</td><td>Côte d'Ivoire</td><td>0</td><td>0</td><td>1</td><td>1</td><td>77</td></tr><tr><td>86</td><td>Ghana</td><td>0</td><td>0</td><td>1</td><td>1</td><td>77</td></tr><tr><td>86</td><td>Grenada</td><td>0</td><td>0</td><td>1</td><td>1</td><td>77</td></tr><tr><td>86</td><td>Kuwait</td><td>0</td><td>0</td><td>1</td><td>1</td><td>77</td></tr><tr><td>86</td><td>Republic of Moldova</td><td>0</td><td>0</td><td>1</td><td>1</td><td>77</td></tr><tr><td>86</td><td>Syrian Arab Republic</td><td>0</td><td>0</td><td>1</td><td>1</td><td>77</td></tr></tbody></table></div>"
            ]
          },
          "metadata": {
            "application/vnd.databricks.v1+output": {
              "addedWidgets": {},
              "aggData": [],
              "aggError": "",
              "aggOverflow": false,
              "aggSchema": [],
              "aggSeriesLimitReached": false,
              "aggType": "",
              "arguments": {},
              "columnCustomDisplayInfos": {},
              "data": [
                [
                  1,
                  "United States of America",
                  39,
                  41,
                  33,
                  113,
                  1
                ],
                [
                  2,
                  "People's Republic of China",
                  38,
                  32,
                  18,
                  88,
                  2
                ],
                [
                  3,
                  "Japan",
                  27,
                  14,
                  17,
                  58,
                  5
                ],
                [
                  4,
                  "Great Britain",
                  22,
                  21,
                  22,
                  65,
                  4
                ],
                [
                  5,
                  "ROC",
                  20,
                  28,
                  23,
                  71,
                  3
                ],
                [
                  6,
                  "Australia",
                  17,
                  7,
                  22,
                  46,
                  6
                ],
                [
                  7,
                  "Netherlands",
                  10,
                  12,
                  14,
                  36,
                  9
                ],
                [
                  8,
                  "France",
                  10,
                  12,
                  11,
                  33,
                  10
                ],
                [
                  9,
                  "Germany",
                  10,
                  11,
                  16,
                  37,
                  8
                ],
                [
                  10,
                  "Italy",
                  10,
                  10,
                  20,
                  40,
                  7
                ],
                [
                  11,
                  "Canada",
                  7,
                  6,
                  11,
                  24,
                  11
                ],
                [
                  12,
                  "Brazil",
                  7,
                  6,
                  8,
                  21,
                  12
                ],
                [
                  13,
                  "New Zealand",
                  7,
                  6,
                  7,
                  20,
                  13
                ],
                [
                  14,
                  "Cuba",
                  7,
                  3,
                  5,
                  15,
                  18
                ],
                [
                  15,
                  "Hungary",
                  6,
                  7,
                  7,
                  20,
                  13
                ],
                [
                  16,
                  "Republic of Korea",
                  6,
                  4,
                  10,
                  20,
                  13
                ],
                [
                  17,
                  "Poland",
                  4,
                  5,
                  5,
                  14,
                  19
                ],
                [
                  18,
                  "Czech Republic",
                  4,
                  4,
                  3,
                  11,
                  23
                ],
                [
                  19,
                  "Kenya",
                  4,
                  4,
                  2,
                  10,
                  25
                ],
                [
                  20,
                  "Norway",
                  4,
                  2,
                  2,
                  8,
                  29
                ],
                [
                  21,
                  "Jamaica",
                  4,
                  1,
                  4,
                  9,
                  26
                ],
                [
                  22,
                  "Spain",
                  3,
                  8,
                  6,
                  17,
                  17
                ],
                [
                  23,
                  "Sweden",
                  3,
                  6,
                  0,
                  9,
                  26
                ],
                [
                  24,
                  "Switzerland",
                  3,
                  4,
                  6,
                  13,
                  20
                ],
                [
                  25,
                  "Denmark",
                  3,
                  4,
                  4,
                  11,
                  23
                ],
                [
                  26,
                  "Croatia",
                  3,
                  3,
                  2,
                  8,
                  29
                ],
                [
                  27,
                  "Islamic Republic of Iran",
                  3,
                  2,
                  2,
                  7,
                  33
                ],
                [
                  28,
                  "Serbia",
                  3,
                  1,
                  5,
                  9,
                  26
                ],
                [
                  29,
                  "Belgium",
                  3,
                  1,
                  3,
                  7,
                  33
                ],
                [
                  30,
                  "Bulgaria",
                  3,
                  1,
                  2,
                  6,
                  39
                ],
                [
                  31,
                  "Slovenia",
                  3,
                  1,
                  1,
                  5,
                  42
                ],
                [
                  32,
                  "Uzbekistan",
                  3,
                  0,
                  2,
                  5,
                  42
                ],
                [
                  33,
                  "Georgia",
                  2,
                  5,
                  1,
                  8,
                  29
                ],
                [
                  34,
                  "Chinese Taipei",
                  2,
                  4,
                  6,
                  12,
                  22
                ],
                [
                  35,
                  "Turkey",
                  2,
                  2,
                  9,
                  13,
                  20
                ],
                [
                  36,
                  "Greece",
                  2,
                  1,
                  1,
                  4,
                  47
                ],
                [
                  36,
                  "Uganda",
                  2,
                  1,
                  1,
                  4,
                  47
                ],
                [
                  38,
                  "Ecuador",
                  2,
                  1,
                  0,
                  3,
                  60
                ],
                [
                  39,
                  "Ireland",
                  2,
                  0,
                  2,
                  4,
                  47
                ],
                [
                  39,
                  "Israel",
                  2,
                  0,
                  2,
                  4,
                  47
                ],
                [
                  41,
                  "Qatar",
                  2,
                  0,
                  1,
                  3,
                  60
                ],
                [
                  42,
                  "Bahamas",
                  2,
                  0,
                  0,
                  2,
                  66
                ],
                [
                  42,
                  "Kosovo",
                  2,
                  0,
                  0,
                  2,
                  66
                ],
                [
                  44,
                  "Ukraine",
                  1,
                  6,
                  12,
                  19,
                  16
                ],
                [
                  45,
                  "Belarus",
                  1,
                  3,
                  3,
                  7,
                  33
                ],
                [
                  46,
                  "Romania",
                  1,
                  3,
                  0,
                  4,
                  47
                ],
                [
                  46,
                  "Venezuela",
                  1,
                  3,
                  0,
                  4,
                  47
                ],
                [
                  48,
                  "India",
                  1,
                  2,
                  4,
                  7,
                  33
                ],
                [
                  49,
                  "Hong Kong, China",
                  1,
                  2,
                  3,
                  6,
                  39
                ],
                [
                  50,
                  "Philippines",
                  1,
                  2,
                  1,
                  4,
                  47
                ],
                [
                  50,
                  "Slovakia",
                  1,
                  2,
                  1,
                  4,
                  47
                ],
                [
                  52,
                  "South Africa",
                  1,
                  2,
                  0,
                  3,
                  60
                ],
                [
                  53,
                  "Austria",
                  1,
                  1,
                  5,
                  7,
                  33
                ],
                [
                  54,
                  "Egypt",
                  1,
                  1,
                  4,
                  6,
                  39
                ],
                [
                  55,
                  "Indonesia",
                  1,
                  1,
                  3,
                  5,
                  42
                ],
                [
                  56,
                  "Ethiopia",
                  1,
                  1,
                  2,
                  4,
                  47
                ],
                [
                  56,
                  "Portugal",
                  1,
                  1,
                  2,
                  4,
                  47
                ],
                [
                  58,
                  "Tunisia",
                  1,
                  1,
                  0,
                  2,
                  66
                ],
                [
                  59,
                  "Estonia",
                  1,
                  0,
                  1,
                  2,
                  66
                ],
                [
                  59,
                  "Fiji",
                  1,
                  0,
                  1,
                  2,
                  66
                ],
                [
                  59,
                  "Latvia",
                  1,
                  0,
                  1,
                  2,
                  66
                ],
                [
                  59,
                  "Thailand",
                  1,
                  0,
                  1,
                  2,
                  66
                ],
                [
                  63,
                  "Bermuda",
                  1,
                  0,
                  0,
                  1,
                  77
                ],
                [
                  63,
                  "Morocco",
                  1,
                  0,
                  0,
                  1,
                  77
                ],
                [
                  63,
                  "Puerto Rico",
                  1,
                  0,
                  0,
                  1,
                  77
                ],
                [
                  66,
                  "Colombia",
                  0,
                  4,
                  1,
                  5,
                  42
                ],
                [
                  67,
                  "Azerbaijan",
                  0,
                  3,
                  4,
                  7,
                  33
                ],
                [
                  68,
                  "Dominican Republic",
                  0,
                  3,
                  2,
                  5,
                  42
                ],
                [
                  69,
                  "Armenia",
                  0,
                  2,
                  2,
                  4,
                  47
                ],
                [
                  70,
                  "Kyrgyzstan",
                  0,
                  2,
                  1,
                  3,
                  60
                ],
                [
                  71,
                  "Mongolia",
                  0,
                  1,
                  3,
                  4,
                  47
                ],
                [
                  72,
                  "Argentina",
                  0,
                  1,
                  2,
                  3,
                  60
                ],
                [
                  72,
                  "San Marino",
                  0,
                  1,
                  2,
                  3,
                  60
                ],
                [
                  74,
                  "Jordan",
                  0,
                  1,
                  1,
                  2,
                  66
                ],
                [
                  74,
                  "Malaysia",
                  0,
                  1,
                  1,
                  2,
                  66
                ],
                [
                  74,
                  "Nigeria",
                  0,
                  1,
                  1,
                  2,
                  66
                ],
                [
                  77,
                  "Bahrain",
                  0,
                  1,
                  0,
                  1,
                  77
                ],
                [
                  77,
                  "Saudi Arabia",
                  0,
                  1,
                  0,
                  1,
                  77
                ],
                [
                  77,
                  "Lithuania",
                  0,
                  1,
                  0,
                  1,
                  77
                ],
                [
                  77,
                  "North Macedonia",
                  0,
                  1,
                  0,
                  1,
                  77
                ],
                [
                  77,
                  "Namibia",
                  0,
                  1,
                  0,
                  1,
                  77
                ],
                [
                  77,
                  "Turkmenistan",
                  0,
                  1,
                  0,
                  1,
                  77
                ],
                [
                  83,
                  "Kazakhstan",
                  0,
                  0,
                  8,
                  8,
                  29
                ],
                [
                  84,
                  "Mexico",
                  0,
                  0,
                  4,
                  4,
                  47
                ],
                [
                  85,
                  "Finland",
                  0,
                  0,
                  2,
                  2,
                  66
                ],
                [
                  86,
                  "Botswana",
                  0,
                  0,
                  1,
                  1,
                  77
                ],
                [
                  86,
                  "Burkina Faso",
                  0,
                  0,
                  1,
                  1,
                  77
                ],
                [
                  86,
                  "Côte d'Ivoire",
                  0,
                  0,
                  1,
                  1,
                  77
                ],
                [
                  86,
                  "Ghana",
                  0,
                  0,
                  1,
                  1,
                  77
                ],
                [
                  86,
                  "Grenada",
                  0,
                  0,
                  1,
                  1,
                  77
                ],
                [
                  86,
                  "Kuwait",
                  0,
                  0,
                  1,
                  1,
                  77
                ],
                [
                  86,
                  "Republic of Moldova",
                  0,
                  0,
                  1,
                  1,
                  77
                ],
                [
                  86,
                  "Syrian Arab Republic",
                  0,
                  0,
                  1,
                  1,
                  77
                ]
              ],
              "datasetInfos": [],
              "dbfsResultPath": null,
              "isJsonSchema": true,
              "metadata": {},
              "overflow": false,
              "plotOptions": {
                "customPlotOptions": {},
                "displayType": "table",
                "pivotAggregation": null,
                "pivotColumns": null,
                "xColumns": null,
                "yColumns": null
              },
              "removedWidgets": [],
              "schema": [
                {
                  "metadata": "{}",
                  "name": "Rank",
                  "type": "\"integer\""
                },
                {
                  "metadata": "{}",
                  "name": "TeamCountry",
                  "type": "\"string\""
                },
                {
                  "metadata": "{}",
                  "name": "Gold",
                  "type": "\"integer\""
                },
                {
                  "metadata": "{}",
                  "name": "Silver",
                  "type": "\"integer\""
                },
                {
                  "metadata": "{}",
                  "name": "Bronze",
                  "type": "\"integer\""
                },
                {
                  "metadata": "{}",
                  "name": "Total",
                  "type": "\"integer\""
                },
                {
                  "metadata": "{}",
                  "name": "Rank by Total",
                  "type": "\"integer\""
                }
              ],
              "type": "table"
            }
          }
        }
      ],
      "source": [
        "medals_cnt = medal.orderBy(\"Gold\", ascending=False)\n",
        "medals_cnt.display()"
      ]
    },
    {
      "cell_type": "code",
      "execution_count": null,
      "metadata": {
        "application/vnd.databricks.v1+cell": {
          "cellMetadata": {
            "byteLimit": 2048000,
            "rowLimit": 10000
          },
          "inputWidgets": {},
          "nuid": "af4464a8-b46a-4b42-b611-0403784867b0",
          "showTitle": false,
          "tableResultSettingsMap": {},
          "title": ""
        },
        "id": "LTHWnmawR9JK",
        "outputId": "673c4d83-64c1-49ac-cad0-ad9676d1db54"
      },
      "outputs": [
        {
          "output_type": "display_data",
          "data": {
            "text/html": [
              "<style scoped>\n",
              "  .table-result-container {\n",
              "    max-height: 300px;\n",
              "    overflow: auto;\n",
              "  }\n",
              "  table, th, td {\n",
              "    border: 1px solid black;\n",
              "    border-collapse: collapse;\n",
              "  }\n",
              "  th, td {\n",
              "    padding: 5px;\n",
              "  }\n",
              "  th {\n",
              "    text-align: left;\n",
              "  }\n",
              "</style><div class='table-result-container'><table class='table-result'><thead style='background-color: white'><tr><th>TeamCountry</th><th>Total</th><th>Rank by Total</th></tr></thead><tbody><tr><td>United States of America</td><td>113</td><td>1</td></tr><tr><td>People's Republic of China</td><td>88</td><td>2</td></tr><tr><td>ROC</td><td>71</td><td>3</td></tr><tr><td>Great Britain</td><td>65</td><td>4</td></tr><tr><td>Japan</td><td>58</td><td>5</td></tr><tr><td>Australia</td><td>46</td><td>6</td></tr><tr><td>Italy</td><td>40</td><td>7</td></tr><tr><td>Germany</td><td>37</td><td>8</td></tr><tr><td>Netherlands</td><td>36</td><td>9</td></tr><tr><td>France</td><td>33</td><td>10</td></tr><tr><td>Canada</td><td>24</td><td>11</td></tr><tr><td>Brazil</td><td>21</td><td>12</td></tr><tr><td>New Zealand</td><td>20</td><td>13</td></tr><tr><td>Hungary</td><td>20</td><td>13</td></tr><tr><td>Republic of Korea</td><td>20</td><td>13</td></tr><tr><td>Ukraine</td><td>19</td><td>16</td></tr><tr><td>Spain</td><td>17</td><td>17</td></tr><tr><td>Cuba</td><td>15</td><td>18</td></tr><tr><td>Poland</td><td>14</td><td>19</td></tr><tr><td>Switzerland</td><td>13</td><td>20</td></tr><tr><td>Turkey</td><td>13</td><td>20</td></tr><tr><td>Chinese Taipei</td><td>12</td><td>22</td></tr><tr><td>Czech Republic</td><td>11</td><td>23</td></tr><tr><td>Denmark</td><td>11</td><td>23</td></tr><tr><td>Kenya</td><td>10</td><td>25</td></tr><tr><td>Jamaica</td><td>9</td><td>26</td></tr><tr><td>Sweden</td><td>9</td><td>26</td></tr><tr><td>Serbia</td><td>9</td><td>26</td></tr><tr><td>Norway</td><td>8</td><td>29</td></tr><tr><td>Croatia</td><td>8</td><td>29</td></tr><tr><td>Georgia</td><td>8</td><td>29</td></tr><tr><td>Kazakhstan</td><td>8</td><td>29</td></tr><tr><td>Islamic Republic of Iran</td><td>7</td><td>33</td></tr><tr><td>Belgium</td><td>7</td><td>33</td></tr><tr><td>Belarus</td><td>7</td><td>33</td></tr><tr><td>India</td><td>7</td><td>33</td></tr><tr><td>Austria</td><td>7</td><td>33</td></tr><tr><td>Azerbaijan</td><td>7</td><td>33</td></tr><tr><td>Bulgaria</td><td>6</td><td>39</td></tr><tr><td>Hong Kong, China</td><td>6</td><td>39</td></tr><tr><td>Egypt</td><td>6</td><td>39</td></tr><tr><td>Slovenia</td><td>5</td><td>42</td></tr><tr><td>Uzbekistan</td><td>5</td><td>42</td></tr><tr><td>Indonesia</td><td>5</td><td>42</td></tr><tr><td>Colombia</td><td>5</td><td>42</td></tr><tr><td>Dominican Republic</td><td>5</td><td>42</td></tr><tr><td>Greece</td><td>4</td><td>47</td></tr><tr><td>Uganda</td><td>4</td><td>47</td></tr><tr><td>Ireland</td><td>4</td><td>47</td></tr><tr><td>Israel</td><td>4</td><td>47</td></tr><tr><td>Romania</td><td>4</td><td>47</td></tr><tr><td>Venezuela</td><td>4</td><td>47</td></tr><tr><td>Philippines</td><td>4</td><td>47</td></tr><tr><td>Slovakia</td><td>4</td><td>47</td></tr><tr><td>Ethiopia</td><td>4</td><td>47</td></tr><tr><td>Portugal</td><td>4</td><td>47</td></tr><tr><td>Armenia</td><td>4</td><td>47</td></tr><tr><td>Mongolia</td><td>4</td><td>47</td></tr><tr><td>Mexico</td><td>4</td><td>47</td></tr><tr><td>Ecuador</td><td>3</td><td>60</td></tr><tr><td>Qatar</td><td>3</td><td>60</td></tr><tr><td>South Africa</td><td>3</td><td>60</td></tr><tr><td>Kyrgyzstan</td><td>3</td><td>60</td></tr><tr><td>Argentina</td><td>3</td><td>60</td></tr><tr><td>San Marino</td><td>3</td><td>60</td></tr><tr><td>Bahamas</td><td>2</td><td>66</td></tr><tr><td>Kosovo</td><td>2</td><td>66</td></tr><tr><td>Tunisia</td><td>2</td><td>66</td></tr><tr><td>Estonia</td><td>2</td><td>66</td></tr><tr><td>Fiji</td><td>2</td><td>66</td></tr><tr><td>Latvia</td><td>2</td><td>66</td></tr><tr><td>Thailand</td><td>2</td><td>66</td></tr><tr><td>Jordan</td><td>2</td><td>66</td></tr><tr><td>Malaysia</td><td>2</td><td>66</td></tr><tr><td>Nigeria</td><td>2</td><td>66</td></tr><tr><td>Finland</td><td>2</td><td>66</td></tr><tr><td>Bermuda</td><td>1</td><td>77</td></tr><tr><td>Morocco</td><td>1</td><td>77</td></tr><tr><td>Puerto Rico</td><td>1</td><td>77</td></tr><tr><td>Bahrain</td><td>1</td><td>77</td></tr><tr><td>Saudi Arabia</td><td>1</td><td>77</td></tr><tr><td>Lithuania</td><td>1</td><td>77</td></tr><tr><td>North Macedonia</td><td>1</td><td>77</td></tr><tr><td>Namibia</td><td>1</td><td>77</td></tr><tr><td>Turkmenistan</td><td>1</td><td>77</td></tr><tr><td>Botswana</td><td>1</td><td>77</td></tr><tr><td>Burkina Faso</td><td>1</td><td>77</td></tr><tr><td>Côte d'Ivoire</td><td>1</td><td>77</td></tr><tr><td>Ghana</td><td>1</td><td>77</td></tr><tr><td>Grenada</td><td>1</td><td>77</td></tr><tr><td>Kuwait</td><td>1</td><td>77</td></tr><tr><td>Republic of Moldova</td><td>1</td><td>77</td></tr><tr><td>Syrian Arab Republic</td><td>1</td><td>77</td></tr></tbody></table></div>"
            ]
          },
          "metadata": {
            "application/vnd.databricks.v1+output": {
              "addedWidgets": {},
              "aggData": [],
              "aggError": "",
              "aggOverflow": false,
              "aggSchema": [],
              "aggSeriesLimitReached": false,
              "aggType": "",
              "arguments": {},
              "columnCustomDisplayInfos": {},
              "data": [
                [
                  "United States of America",
                  113,
                  1
                ],
                [
                  "People's Republic of China",
                  88,
                  2
                ],
                [
                  "ROC",
                  71,
                  3
                ],
                [
                  "Great Britain",
                  65,
                  4
                ],
                [
                  "Japan",
                  58,
                  5
                ],
                [
                  "Australia",
                  46,
                  6
                ],
                [
                  "Italy",
                  40,
                  7
                ],
                [
                  "Germany",
                  37,
                  8
                ],
                [
                  "Netherlands",
                  36,
                  9
                ],
                [
                  "France",
                  33,
                  10
                ],
                [
                  "Canada",
                  24,
                  11
                ],
                [
                  "Brazil",
                  21,
                  12
                ],
                [
                  "New Zealand",
                  20,
                  13
                ],
                [
                  "Hungary",
                  20,
                  13
                ],
                [
                  "Republic of Korea",
                  20,
                  13
                ],
                [
                  "Ukraine",
                  19,
                  16
                ],
                [
                  "Spain",
                  17,
                  17
                ],
                [
                  "Cuba",
                  15,
                  18
                ],
                [
                  "Poland",
                  14,
                  19
                ],
                [
                  "Switzerland",
                  13,
                  20
                ],
                [
                  "Turkey",
                  13,
                  20
                ],
                [
                  "Chinese Taipei",
                  12,
                  22
                ],
                [
                  "Czech Republic",
                  11,
                  23
                ],
                [
                  "Denmark",
                  11,
                  23
                ],
                [
                  "Kenya",
                  10,
                  25
                ],
                [
                  "Jamaica",
                  9,
                  26
                ],
                [
                  "Sweden",
                  9,
                  26
                ],
                [
                  "Serbia",
                  9,
                  26
                ],
                [
                  "Norway",
                  8,
                  29
                ],
                [
                  "Croatia",
                  8,
                  29
                ],
                [
                  "Georgia",
                  8,
                  29
                ],
                [
                  "Kazakhstan",
                  8,
                  29
                ],
                [
                  "Islamic Republic of Iran",
                  7,
                  33
                ],
                [
                  "Belgium",
                  7,
                  33
                ],
                [
                  "Belarus",
                  7,
                  33
                ],
                [
                  "India",
                  7,
                  33
                ],
                [
                  "Austria",
                  7,
                  33
                ],
                [
                  "Azerbaijan",
                  7,
                  33
                ],
                [
                  "Bulgaria",
                  6,
                  39
                ],
                [
                  "Hong Kong, China",
                  6,
                  39
                ],
                [
                  "Egypt",
                  6,
                  39
                ],
                [
                  "Slovenia",
                  5,
                  42
                ],
                [
                  "Uzbekistan",
                  5,
                  42
                ],
                [
                  "Indonesia",
                  5,
                  42
                ],
                [
                  "Colombia",
                  5,
                  42
                ],
                [
                  "Dominican Republic",
                  5,
                  42
                ],
                [
                  "Greece",
                  4,
                  47
                ],
                [
                  "Uganda",
                  4,
                  47
                ],
                [
                  "Ireland",
                  4,
                  47
                ],
                [
                  "Israel",
                  4,
                  47
                ],
                [
                  "Romania",
                  4,
                  47
                ],
                [
                  "Venezuela",
                  4,
                  47
                ],
                [
                  "Philippines",
                  4,
                  47
                ],
                [
                  "Slovakia",
                  4,
                  47
                ],
                [
                  "Ethiopia",
                  4,
                  47
                ],
                [
                  "Portugal",
                  4,
                  47
                ],
                [
                  "Armenia",
                  4,
                  47
                ],
                [
                  "Mongolia",
                  4,
                  47
                ],
                [
                  "Mexico",
                  4,
                  47
                ],
                [
                  "Ecuador",
                  3,
                  60
                ],
                [
                  "Qatar",
                  3,
                  60
                ],
                [
                  "South Africa",
                  3,
                  60
                ],
                [
                  "Kyrgyzstan",
                  3,
                  60
                ],
                [
                  "Argentina",
                  3,
                  60
                ],
                [
                  "San Marino",
                  3,
                  60
                ],
                [
                  "Bahamas",
                  2,
                  66
                ],
                [
                  "Kosovo",
                  2,
                  66
                ],
                [
                  "Tunisia",
                  2,
                  66
                ],
                [
                  "Estonia",
                  2,
                  66
                ],
                [
                  "Fiji",
                  2,
                  66
                ],
                [
                  "Latvia",
                  2,
                  66
                ],
                [
                  "Thailand",
                  2,
                  66
                ],
                [
                  "Jordan",
                  2,
                  66
                ],
                [
                  "Malaysia",
                  2,
                  66
                ],
                [
                  "Nigeria",
                  2,
                  66
                ],
                [
                  "Finland",
                  2,
                  66
                ],
                [
                  "Bermuda",
                  1,
                  77
                ],
                [
                  "Morocco",
                  1,
                  77
                ],
                [
                  "Puerto Rico",
                  1,
                  77
                ],
                [
                  "Bahrain",
                  1,
                  77
                ],
                [
                  "Saudi Arabia",
                  1,
                  77
                ],
                [
                  "Lithuania",
                  1,
                  77
                ],
                [
                  "North Macedonia",
                  1,
                  77
                ],
                [
                  "Namibia",
                  1,
                  77
                ],
                [
                  "Turkmenistan",
                  1,
                  77
                ],
                [
                  "Botswana",
                  1,
                  77
                ],
                [
                  "Burkina Faso",
                  1,
                  77
                ],
                [
                  "Côte d'Ivoire",
                  1,
                  77
                ],
                [
                  "Ghana",
                  1,
                  77
                ],
                [
                  "Grenada",
                  1,
                  77
                ],
                [
                  "Kuwait",
                  1,
                  77
                ],
                [
                  "Republic of Moldova",
                  1,
                  77
                ],
                [
                  "Syrian Arab Republic",
                  1,
                  77
                ]
              ],
              "datasetInfos": [],
              "dbfsResultPath": null,
              "isJsonSchema": true,
              "metadata": {},
              "overflow": false,
              "plotOptions": {
                "customPlotOptions": {},
                "displayType": "table",
                "pivotAggregation": null,
                "pivotColumns": null,
                "xColumns": null,
                "yColumns": null
              },
              "removedWidgets": [],
              "schema": [
                {
                  "metadata": "{}",
                  "name": "TeamCountry",
                  "type": "\"string\""
                },
                {
                  "metadata": "{}",
                  "name": "Total",
                  "type": "\"integer\""
                },
                {
                  "metadata": "{}",
                  "name": "Rank by Total",
                  "type": "\"integer\""
                }
              ],
              "type": "table"
            }
          }
        }
      ],
      "source": [
        "medals_cnt = medal.orderBy(\"Total\", ascending=False).select(\"TeamCountry\",\"Total\", \"Rank by Total\")\n",
        "medals_cnt.display()"
      ]
    },
    {
      "cell_type": "code",
      "execution_count": null,
      "metadata": {
        "application/vnd.databricks.v1+cell": {
          "cellMetadata": {
            "byteLimit": 2048000,
            "rowLimit": 10000
          },
          "inputWidgets": {},
          "nuid": "b5d39877-3623-4797-b1e6-1c341a25ad12",
          "showTitle": false,
          "tableResultSettingsMap": {},
          "title": ""
        },
        "id": "JGf047n4R9JL",
        "outputId": "8b22931f-44d4-4556-9c39-cf4f6a8ef4e9"
      },
      "outputs": [
        {
          "output_type": "stream",
          "name": "stdout",
          "text": [
            "+--------------------+------+----+-----+-------------------+-------------------+\n|          Discipline|Female|Male|Total|         Avg_Female|           Avg_Male|\n+--------------------+------+----+-----+-------------------+-------------------+\n|      3x3 Basketball|    32|  32|   64|                0.5|                0.5|\n|             Archery|    64|  64|  128|                0.5|                0.5|\n| Artistic Gymnastics|    98|  98|  196|                0.5|                0.5|\n|   Artistic Swimming|   105|   0|  105|                1.0|                0.0|\n|           Athletics|   969|1072| 2041| 0.4747672709456149| 0.5252327290543851|\n|           Badminton|    86|  87|  173|0.49710982658959535| 0.5028901734104047|\n|   Baseball/Softball|    90| 144|  234|0.38461538461538464| 0.6153846153846154|\n|          Basketball|   144| 144|  288|                0.5|                0.5|\n|    Beach Volleyball|    48|  48|   96|                0.5|                0.5|\n|              Boxing|   102| 187|  289|0.35294117647058826| 0.6470588235294118|\n|        Canoe Slalom|    41|  41|   82|                0.5|                0.5|\n|        Canoe Sprint|   123| 126|  249| 0.4939759036144578| 0.5060240963855421|\n|Cycling BMX Frees...|    10|   9|   19| 0.5263157894736842|0.47368421052631576|\n|  Cycling BMX Racing|    24|  24|   48|                0.5|                0.5|\n|Cycling Mountain ...|    38|  38|   76|                0.5|                0.5|\n|        Cycling Road|    70| 131|  201| 0.3482587064676617| 0.6517412935323383|\n|       Cycling Track|    90|  99|  189|0.47619047619047616| 0.5238095238095238|\n|              Diving|    72|  71|  143| 0.5034965034965035| 0.4965034965034965|\n|          Equestrian|    73| 125|  198| 0.3686868686868687| 0.6313131313131313|\n|             Fencing|   107| 108|  215|0.49767441860465117| 0.5023255813953489|\n+--------------------+------+----+-----+-------------------+-------------------+\nonly showing top 20 rows\n\n"
          ]
        }
      ],
      "source": [
        "average_entries_by_gender = gender.withColumn(\n",
        "    'Avg_Female', gender['Female'] / gender['Total']\n",
        ").withColumn(\n",
        "    'Avg_Male', gender['Male'] / gender['Total']\n",
        ")\n",
        "average_entries_by_gender.show()"
      ]
    },
    {
      "cell_type": "code",
      "execution_count": null,
      "metadata": {
        "application/vnd.databricks.v1+cell": {
          "cellMetadata": {
            "byteLimit": 2048000,
            "rowLimit": 10000
          },
          "inputWidgets": {},
          "nuid": "9c9dbe71-12f0-4cb1-b98b-d062e5e0b1a0",
          "showTitle": false,
          "tableResultSettingsMap": {},
          "title": ""
        },
        "id": "NHOnYKYYR9JM"
      },
      "outputs": [],
      "source": [
        "coaches.repartition(1).write.mode(\"overwrite\").option(\"header\",\"true\").csv(\"abfss://transformed-data@olympicstunir.dfs.core.windows.net/Coach\")\n",
        "gender.repartition(1).write.mode(\"overwrite\").option(\"header\",\"true\").csv(\"abfss://transformed-data@olympicstunir.dfs.core.windows.net/Gender\")\n",
        "medal.repartition(1).write.mode(\"overwrite\").option(\"header\",\"true\").csv(\"abfss://transformed-data@olympicstunir.dfs.core.windows.net/Medals\")\n",
        "team.repartition(1).write.mode(\"overwrite\").option(\"header\",\"true\").csv(\"abfss://transformed-data@olympicstunir.dfs.core.windows.net/Teams\")\n",
        "athlete.repartition(1).write.mode(\"overwrite\").option(\"header\",\"true\").csv(\"abfss://transformed-data@olympicstunir.dfs.core.windows.net/Athletes\")"
      ]
    }
  ],
  "metadata": {
    "application/vnd.databricks.v1+notebook": {
      "computePreferences": null,
      "dashboards": [],
      "environmentMetadata": {
        "base_environment": "",
        "environment_version": "2"
      },
      "inputWidgetPreferences": null,
      "language": "python",
      "notebookMetadata": {
        "mostRecentlyExecutedCommandWithImplicitDF": {
          "commandId": -1,
          "dataframes": [
            "_sqldf"
          ]
        },
        "pythonIndentUnit": 4
      },
      "notebookName": "OlympicsDB",
      "widgets": {}
    },
    "language_info": {
      "name": "python"
    },
    "colab": {
      "provenance": []
    }
  },
  "nbformat": 4,
  "nbformat_minor": 0
}